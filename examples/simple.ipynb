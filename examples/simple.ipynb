{
 "cells": [
  {
   "cell_type": "code",
   "execution_count": 8,
   "metadata": {},
   "outputs": [],
   "source": [
    "import stringx\n",
    "import pandas as pd"
   ]
  },
  {
   "cell_type": "code",
   "execution_count": 9,
   "metadata": {},
   "outputs": [],
   "source": [
    "SPECIES = 7227  # Drosophila melanogaster"
   ]
  },
  {
   "cell_type": "code",
   "execution_count": 10,
   "metadata": {},
   "outputs": [],
   "source": [
    "identifiers = [\n",
    "    \"edin\",\n",
    "    \"AttD\",\n",
    "    \"DptA\",\n",
    "    \"vago\",\n",
    "]"
   ]
  },
  {
   "cell_type": "markdown",
   "metadata": {},
   "source": [
    "Query STRING DB to disambiguate our identifiers."
   ]
  },
  {
   "cell_type": "code",
   "execution_count": 11,
   "metadata": {},
   "outputs": [
    {
     "data": {
      "text/html": [
       "<div>\n",
       "<style scoped>\n",
       "    .dataframe tbody tr th:only-of-type {\n",
       "        vertical-align: middle;\n",
       "    }\n",
       "\n",
       "    .dataframe tbody tr th {\n",
       "        vertical-align: top;\n",
       "    }\n",
       "\n",
       "    .dataframe thead th {\n",
       "        text-align: right;\n",
       "    }\n",
       "</style>\n",
       "<table border=\"1\" class=\"dataframe\">\n",
       "  <thead>\n",
       "    <tr style=\"text-align: right;\">\n",
       "      <th></th>\n",
       "      <th>preferredName</th>\n",
       "      <th>stringId</th>\n",
       "    </tr>\n",
       "  </thead>\n",
       "  <tbody>\n",
       "    <tr>\n",
       "      <th>0</th>\n",
       "      <td>edin</td>\n",
       "      <td>7227.FBpp0074940</td>\n",
       "    </tr>\n",
       "    <tr>\n",
       "      <th>1</th>\n",
       "      <td>AttD</td>\n",
       "      <td>7227.FBpp0082908</td>\n",
       "    </tr>\n",
       "    <tr>\n",
       "      <th>2</th>\n",
       "      <td>DptA</td>\n",
       "      <td>7227.FBpp0085802</td>\n",
       "    </tr>\n",
       "    <tr>\n",
       "      <th>3</th>\n",
       "      <td>Vago</td>\n",
       "      <td>7227.FBpp0312036</td>\n",
       "    </tr>\n",
       "  </tbody>\n",
       "</table>\n",
       "</div>"
      ],
      "text/plain": [
       "  preferredName          stringId\n",
       "0          edin  7227.FBpp0074940\n",
       "1          AttD  7227.FBpp0082908\n",
       "2          DptA  7227.FBpp0085802\n",
       "3          Vago  7227.FBpp0312036"
      ]
     },
     "execution_count": 11,
     "metadata": {},
     "output_type": "execute_result"
    }
   ],
   "source": [
    "json_response = stringx.map(identifiers, SPECIES)\n",
    "\n",
    "identifiers_df = pd.DataFrame(json_response)\n",
    "\n",
    "identifiers_df[[\"preferredName\", \"stringId\"]]"
   ]
  },
  {
   "cell_type": "code",
   "execution_count": 12,
   "metadata": {},
   "outputs": [],
   "source": [
    "string_ids = identifiers_df[\"stringId\"].to_list()"
   ]
  },
  {
   "cell_type": "markdown",
   "metadata": {},
   "source": [
    "You may now use these IDs in follow-up queries."
   ]
  },
  {
   "cell_type": "code",
   "execution_count": 13,
   "metadata": {},
   "outputs": [
    {
     "data": {
      "text/plain": [
       "['7227.FBpp0074940',\n",
       " '7227.FBpp0082908',\n",
       " '7227.FBpp0085802',\n",
       " '7227.FBpp0312036']"
      ]
     },
     "execution_count": 13,
     "metadata": {},
     "output_type": "execute_result"
    }
   ],
   "source": [
    "string_ids"
   ]
  },
  {
   "cell_type": "code",
   "execution_count": 14,
   "metadata": {},
   "outputs": [
    {
     "data": {
      "text/html": [
       "<div>\n",
       "<style scoped>\n",
       "    .dataframe tbody tr th:only-of-type {\n",
       "        vertical-align: middle;\n",
       "    }\n",
       "\n",
       "    .dataframe tbody tr th {\n",
       "        vertical-align: top;\n",
       "    }\n",
       "\n",
       "    .dataframe thead th {\n",
       "        text-align: right;\n",
       "    }\n",
       "</style>\n",
       "<table border=\"1\" class=\"dataframe\">\n",
       "  <thead>\n",
       "    <tr style=\"text-align: right;\">\n",
       "      <th></th>\n",
       "      <th>stringId_A</th>\n",
       "      <th>stringId_B</th>\n",
       "      <th>preferredName_A</th>\n",
       "      <th>preferredName_B</th>\n",
       "      <th>ncbiTaxonId</th>\n",
       "      <th>score</th>\n",
       "      <th>nscore</th>\n",
       "      <th>fscore</th>\n",
       "      <th>pscore</th>\n",
       "      <th>ascore</th>\n",
       "      <th>escore</th>\n",
       "      <th>dscore</th>\n",
       "      <th>tscore</th>\n",
       "    </tr>\n",
       "  </thead>\n",
       "  <tbody>\n",
       "    <tr>\n",
       "      <th>0</th>\n",
       "      <td>7227.FBpp0074940</td>\n",
       "      <td>7227.FBpp0085802</td>\n",
       "      <td>edin</td>\n",
       "      <td>DptA</td>\n",
       "      <td>7227</td>\n",
       "      <td>0.518</td>\n",
       "      <td>0</td>\n",
       "      <td>0</td>\n",
       "      <td>0</td>\n",
       "      <td>0.273</td>\n",
       "      <td>0</td>\n",
       "      <td>0</td>\n",
       "      <td>0.365</td>\n",
       "    </tr>\n",
       "    <tr>\n",
       "      <th>1</th>\n",
       "      <td>7227.FBpp0074940</td>\n",
       "      <td>7227.FBpp0082908</td>\n",
       "      <td>edin</td>\n",
       "      <td>AttD</td>\n",
       "      <td>7227</td>\n",
       "      <td>0.817</td>\n",
       "      <td>0</td>\n",
       "      <td>0</td>\n",
       "      <td>0</td>\n",
       "      <td>0.626</td>\n",
       "      <td>0</td>\n",
       "      <td>0</td>\n",
       "      <td>0.533</td>\n",
       "    </tr>\n",
       "    <tr>\n",
       "      <th>2</th>\n",
       "      <td>7227.FBpp0082908</td>\n",
       "      <td>7227.FBpp0085802</td>\n",
       "      <td>AttD</td>\n",
       "      <td>DptA</td>\n",
       "      <td>7227</td>\n",
       "      <td>0.810</td>\n",
       "      <td>0</td>\n",
       "      <td>0</td>\n",
       "      <td>0</td>\n",
       "      <td>0.453</td>\n",
       "      <td>0</td>\n",
       "      <td>0</td>\n",
       "      <td>0.668</td>\n",
       "    </tr>\n",
       "  </tbody>\n",
       "</table>\n",
       "</div>"
      ],
      "text/plain": [
       "         stringId_A        stringId_B preferredName_A preferredName_B  \\\n",
       "0  7227.FBpp0074940  7227.FBpp0085802            edin            DptA   \n",
       "1  7227.FBpp0074940  7227.FBpp0082908            edin            AttD   \n",
       "2  7227.FBpp0082908  7227.FBpp0085802            AttD            DptA   \n",
       "\n",
       "  ncbiTaxonId  score  nscore  fscore  pscore  ascore  escore  dscore  tscore  \n",
       "0        7227  0.518       0       0       0   0.273       0       0   0.365  \n",
       "1        7227  0.817       0       0       0   0.626       0       0   0.533  \n",
       "2        7227  0.810       0       0       0   0.453       0       0   0.668  "
      ]
     },
     "execution_count": 14,
     "metadata": {},
     "output_type": "execute_result"
    }
   ],
   "source": [
    "pd.DataFrame(stringx.network(string_ids, SPECIES))"
   ]
  }
 ],
 "metadata": {
  "kernelspec": {
   "display_name": ".venv",
   "language": "python",
   "name": "python3"
  },
  "language_info": {
   "codemirror_mode": {
    "name": "ipython",
    "version": 3
   },
   "file_extension": ".py",
   "mimetype": "text/x-python",
   "name": "python",
   "nbconvert_exporter": "python",
   "pygments_lexer": "ipython3",
   "version": "3.10.12"
  }
 },
 "nbformat": 4,
 "nbformat_minor": 2
}
